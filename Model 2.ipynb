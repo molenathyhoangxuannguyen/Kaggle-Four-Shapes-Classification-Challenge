{
 "cells": [
  {
   "cell_type": "code",
   "execution_count": 1,
   "metadata": {},
   "outputs": [],
   "source": [
    "# This Python 3 environment comes with many helpful analytics libraries installed\n",
    "# It is defined by the kaggle/python Docker image: https://github.com/kaggle/docker-python\n",
    "# For example, here's several helpful packages to load\n",
    "\n",
    "import numpy as np # linear algebra\n",
    "import pandas as pd # data processing, CSV file I/O (e.g. pd.read_csv)\n",
    "\n",
    "# Input data files are available in the read-only \"../input/\" directory\n",
    "# For example, running this (by clicking run or pressing Shift+Enter) will list all files under the input directory\n",
    "\n",
    "import matplotlib.pyplot as plt\n",
    "\n",
    "from sklearn.model_selection import train_test_split\n",
    "from keras.layers import Input, Flatten, Dense, Conv2D\n",
    "from keras.models import Model\n",
    "from keras.optimizers import Adam\n",
    "from keras.utils import to_categorical\n",
    "\n",
    "import os\n",
    "import cv2\n",
    "#for dirname, _, filenames in os.walk('/kaggle/input'):\n",
    "#    for filename in filenames:\n",
    "#        print(os.path.join(dirname, filename))"
   ]
  },
  {
   "cell_type": "code",
   "execution_count": null,
   "metadata": {},
   "outputs": [],
   "source": [
    "\n",
    "# Create a basis for all imported objects\n",
    "PATH = \"../input/four-shapes/shapes/\"\n",
    "IMG_SIZE = 64 # Since 64x64 imgs\n",
    "Shapes = [\"circle\", \"square\", \"triangle\", \"star\"]\n",
    "\n",
    "# Create holding arrays for images\n",
    "Labels = []\n",
    "Dataset = []\n",
    "\n",
    "# Parse through each folder and pull all images\n",
    "for shape in Shapes:\n",
    "    print(\"Getting data for\", shape)\n",
    "    #iterate through each file in the folder\n",
    "    for path in os.listdir(PATH + shape):\n",
    "        #add the image to the list of images\n",
    "        img = cv2.imread(PATH + shape + '/' + path)\n",
    "        img = cv2.resize(img, (IMG_SIZE, IMG_SIZE))\n",
    "        Dataset.append(img)\n",
    "        #add an integer to the labels list \n",
    "        Labels.append(Shapes.index(shape))\n",
    "        \n",
    "# Print results\n",
    "print(\"\\nDataset Images size:\", len(Dataset))\n",
    "print(\"Image Shape:\", Dataset[0].shape)\n",
    "print(\"Labels size:\", len(Labels))"
   ]
  }
 ],
 "metadata": {
  "kernelspec": {
   "display_name": "Python 3",
   "language": "python",
   "name": "python3"
  },
  "language_info": {
   "codemirror_mode": {
    "name": "ipython",
    "version": 3
   },
   "file_extension": ".py",
   "mimetype": "text/x-python",
   "name": "python",
   "nbconvert_exporter": "python",
   "pygments_lexer": "ipython3",
   "version": "3.8.5"
  }
 },
 "nbformat": 4,
 "nbformat_minor": 4
}
